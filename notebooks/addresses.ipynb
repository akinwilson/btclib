{
 "cells": [
  {
   "cell_type": "markdown",
   "metadata": {},
   "source": [
    "## Address generation"
   ]
  },
  {
   "cell_type": "code",
   "execution_count": null,
   "metadata": {},
   "outputs": [
    {
     "ename": "AttributeError",
     "evalue": "'SecretKey' object has no attribute 'point'",
     "output_type": "error",
     "traceback": [
      "\u001b[0;31m---------------------------------------------------------------------------\u001b[0m",
      "\u001b[0;31mAttributeError\u001b[0m                            Traceback (most recent call last)",
      "Cell \u001b[0;32mIn[7], line 15\u001b[0m\n\u001b[1;32m     13\u001b[0m test_public_address_generation()\n\u001b[1;32m     14\u001b[0m priv \u001b[38;5;241m=\u001b[39m SecretKey(\u001b[38;5;241m5002\u001b[39m)\n\u001b[0;32m---> 15\u001b[0m \u001b[38;5;28mprint\u001b[39m(\u001b[43mpriv\u001b[49m\u001b[38;5;241;43m.\u001b[39;49m\u001b[43mpoint\u001b[49m\u001b[38;5;241m.\u001b[39maddress(compressed\u001b[38;5;241m=\u001b[39m\u001b[38;5;28;01mFalse\u001b[39;00m, testnet\u001b[38;5;241m=\u001b[39m\u001b[38;5;28;01mTrue\u001b[39;00m))\n\u001b[1;32m     16\u001b[0m mmTPbXQFxboEtNRkwfh6K51jvdtHLxGeMA\n",
      "\u001b[0;31mAttributeError\u001b[0m: 'SecretKey' object has no attribute 'point'"
     ]
    }
   ],
   "source": [
    "import pytest \n",
    "from btclib.ec import S256Point, SecretKey\n",
    "from btclib.constants import Gx, Gy, SECP256K1_A, SECP256K1_B\n",
    "\n",
    "\n",
    "\n",
    "def test_public_address_generation():\n",
    "    sk  = 5005\n",
    "    return (sk * S256Point(Gx, Gy, SECP256K1_A,SECP256K1_B)).address(compressed=False,testnet=True)\n",
    "\n",
    "\n",
    "\n",
    "test_public_address_generation()\n",
    "priv = SecretKey(5002)\n",
    "print(priv.point.address(compressed=False, testnet=True))\n",
    "# mmTPbXQFxboEtNRkwfh6K51jvdtHLxGeMA"
   ]
  },
  {
   "cell_type": "code",
   "execution_count": null,
   "metadata": {},
   "outputs": [],
   "source": [
    "mmTPbXQFxboEtNRkwfh6K51jvdtHLxGeMA"
   ]
  },
  {
   "cell_type": "code",
   "execution_count": null,
   "metadata": {},
   "outputs": [],
   "source": []
  }
 ],
 "metadata": {
  "kernelspec": {
   "display_name": "btclib-36eTZU9P",
   "language": "python",
   "name": "python3"
  },
  "language_info": {
   "codemirror_mode": {
    "name": "ipython",
    "version": 3
   },
   "file_extension": ".py",
   "mimetype": "text/x-python",
   "name": "python",
   "nbconvert_exporter": "python",
   "pygments_lexer": "ipython3",
   "version": "3.10.12"
  }
 },
 "nbformat": 4,
 "nbformat_minor": 2
}
