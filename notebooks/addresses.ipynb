{
 "cells": [
  {
   "cell_type": "markdown",
   "metadata": {},
   "source": [
    "## Address generation"
   ]
  },
  {
   "cell_type": "code",
   "execution_count": 2,
   "metadata": {},
   "outputs": [
    {
     "data": {
      "text/html": [
       "<style>.container { width:90% !important; }</style>"
      ],
      "text/plain": [
       "<IPython.core.display.HTML object>"
      ]
     },
     "metadata": {},
     "output_type": "display_data"
    }
   ],
   "source": [
    "import warnings\n",
    "warnings.filterwarnings('ignore')\n",
    "from IPython.core.interactiveshell import InteractiveShell\n",
    "InteractiveShell.ast_node_interactivity = \"all\"\n",
    "from IPython.core.display import display, HTML\n",
    "display(HTML(\"<style>.container { width:90% !important; }</style>\"))"
   ]
  },
  {
   "cell_type": "code",
   "execution_count": 8,
   "metadata": {},
   "outputs": [
    {
     "name": "stdout",
     "output_type": "stream",
     "text": [
      "mmTPbXQFxboEtNRkwfh6K51jvdtHLxGeMA\n"
     ]
    },
    {
     "data": {
      "text/plain": [
       "'KwDiBf89QgGbjEhKnhXJuH7LrciVrZi3qYjgd9M7rFUqzDuuUv6u'"
      ]
     },
     "execution_count": 8,
     "metadata": {},
     "output_type": "execute_result"
    }
   ],
   "source": [
    "import pytest \n",
    "from btclib.ec import  SecretKey\n",
    "\n",
    "testcases = [(5002,'mmTPbXQFxboEtNRkwfh6K51jvdtHLxGeMA', True, False),\n",
    "             (2020**5, 'mopVkxp8UhXqRYbCYJsbeE1h1fiF64jcoH', True, True),\n",
    "             (0x12345deadbeef,'1F1Pn2y6pDb68E5nYJJeba4TLg2U7B6KF1', False, True )]\n",
    "\n",
    "# @pytest.mark.parametrize('secret_key, address, net, compressed', testcases)\n",
    "def test_public_address_generation(sk,address, net, compressed):\n",
    "    addr = SecretKey(sk).pk.address(compressed=compressed,testnet=net)\n",
    "    assert addr == address \n",
    "\n",
    "\n",
    "\n",
    "# test_public_address_generation()\n",
    "sk = SecretKey(5002)\n",
    "print(sk.pk.address(compressed=False, testnet=True))\n",
    "\n",
    "sk.wif()\n",
    "# mmTPbXQFxboEtNRkwfh6K51jvdtHLxGeMA"
   ]
  },
  {
   "cell_type": "code",
   "execution_count": null,
   "metadata": {},
   "outputs": [],
   "source": [
    ">>> priv = PrivateKey(5002)\n",
    ">>> print(priv.point.address(compressed=False, testnet=True))\n",
    "mmTPbXQFxboEtNRkwfh6K51jvdtHLxGeMA"
   ]
  },
  {
   "cell_type": "code",
   "execution_count": null,
   "metadata": {},
   "outputs": [],
   "source": [
    "mmTPbXQFxboEtNRkwfh6K51jvdtHLxGeMA"
   ]
  },
  {
   "cell_type": "code",
   "execution_count": null,
   "metadata": {},
   "outputs": [],
   "source": []
  }
 ],
 "metadata": {
  "kernelspec": {
   "display_name": "btclib-36eTZU9P",
   "language": "python",
   "name": "python3"
  },
  "language_info": {
   "codemirror_mode": {
    "name": "ipython",
    "version": 3
   },
   "file_extension": ".py",
   "mimetype": "text/x-python",
   "name": "python",
   "nbconvert_exporter": "python",
   "pygments_lexer": "ipython3",
   "version": "3.10.12"
  }
 },
 "nbformat": 4,
 "nbformat_minor": 2
}
