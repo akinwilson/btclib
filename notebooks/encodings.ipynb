{
 "cells": [
  {
   "cell_type": "markdown",
   "metadata": {},
   "source": [
    "## Base58 Encoding "
   ]
  },
  {
   "cell_type": "code",
   "execution_count": 4,
   "metadata": {},
   "outputs": [
    {
     "data": {
      "text/html": [
       "<style>.container { width:90% !important; }</style>"
      ],
      "text/plain": [
       "<IPython.core.display.HTML object>"
      ]
     },
     "metadata": {},
     "output_type": "display_data"
    }
   ],
   "source": [
    "import warnings\n",
    "warnings.filterwarnings('ignore')\n",
    "from IPython.core.interactiveshell import InteractiveShell\n",
    "InteractiveShell.ast_node_interactivity = \"all\"\n",
    "from IPython.core.display import display, HTML\n",
    "display(HTML(\"<style>.container { width:90% !important; }</style>\"))"
   ]
  },
  {
   "cell_type": "code",
   "execution_count": 21,
   "metadata": {},
   "outputs": [
    {
     "data": {
      "text/plain": [
       "'7c076ff316692a3d7eb3c3bb0f8b1488cf72e1afcd929e29307032997a838a3d'"
      ]
     },
     "execution_count": 21,
     "metadata": {},
     "output_type": "execute_result"
    }
   ],
   "source": [
    "from btclib.utils import Base58\n",
    "import pytest\n",
    "# int(Base58.decode('Qznfg3Vz'), 16)\n",
    "\n",
    "testcases = [('7c076ff316692a3d7eb3c3bb0f8b1488cf72e1afcd929e29307032997a838a3d','7c076ff316692a3d7eb3c3bb0f8b1488cf72e1afcd929e29307032997a838a3d'), \n",
    "    ('eff69ef2b1bd93a66ed5219add4fb51e11a840f404876325a1e8ffe0529a2c','eff69ef2b1bd93a66ed5219add4fb51e11a840f404876325a1e8ffe0529a2c'),\n",
    "    ('c7207fee197d27c618aea621406f6bf5ef6fca38681d82b2f06fddbdce6feab6','c7207fee197d27c618aea621406f6bf5ef6fca38681d82b2f06fddbdce6feab6')]\n",
    "\n",
    "@pytest.mark.parametrize(\"base16, reconstructed_base16\", testcases)\n",
    "def test_base58_encoding_and_decoding(base16, reconstructed_base16):\n",
    "    x = bytes.fromhex(base16)\n",
    "    b58 = Base58.encode(x)\n",
    "    rb16 = Base58.decode(b58)\n",
    "    assert rb16 == reconstructed_base16, \"Encoding and decoding from base 16 and base 58 failed\"\n",
    "\n",
    "\n",
    "def test_base58_encoding(x):\n",
    "    \n",
    "\n",
    "b58 = test_base58_encoding(testcases[0])\n",
    "\n",
    "def test_base58_decoding(x):\n",
    "    return Base58.decode(x)\n",
    "\n",
    "test_base58_decoding(b58)"
   ]
  },
  {
   "cell_type": "code",
   "execution_count": null,
   "metadata": {},
   "outputs": [],
   "source": []
  },
  {
   "cell_type": "code",
   "execution_count": null,
   "metadata": {},
   "outputs": [],
   "source": []
  },
  {
   "cell_type": "code",
   "execution_count": null,
   "metadata": {},
   "outputs": [],
   "source": []
  }
 ],
 "metadata": {
  "kernelspec": {
   "display_name": "btclib-36eTZU9P",
   "language": "python",
   "name": "python3"
  },
  "language_info": {
   "codemirror_mode": {
    "name": "ipython",
    "version": 3
   },
   "file_extension": ".py",
   "mimetype": "text/x-python",
   "name": "python",
   "nbconvert_exporter": "python",
   "pygments_lexer": "ipython3",
   "version": "3.10.12"
  }
 },
 "nbformat": 4,
 "nbformat_minor": 2
}
