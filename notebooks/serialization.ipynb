{
 "cells": [
  {
   "cell_type": "markdown",
   "metadata": {},
   "source": [
    "# Serialisation"
   ]
  },
  {
   "cell_type": "code",
   "execution_count": 1,
   "metadata": {},
   "outputs": [
    {
     "data": {
      "text/html": [
       "<style>.container { width:90% !important; }</style>"
      ],
      "text/plain": [
       "<IPython.core.display.HTML object>"
      ]
     },
     "metadata": {},
     "output_type": "display_data"
    }
   ],
   "source": [
    "import warnings\n",
    "warnings.filterwarnings('ignore')\n",
    "from IPython.core.interactiveshell import InteractiveShell\n",
    "InteractiveShell.ast_node_interactivity = \"all\"\n",
    "from IPython.core.display import display, HTML\n",
    "display(HTML(\"<style>.container { width:90% !important; }</style>\"))"
   ]
  },
  {
   "cell_type": "code",
   "execution_count": 21,
   "metadata": {},
   "outputs": [
    {
     "data": {
      "text/plain": [
       "79101491505595203814649957"
      ]
     },
     "execution_count": 21,
     "metadata": {},
     "output_type": "execute_result"
    }
   ],
   "source": [
    "int.from_bytes(b\"Andres Lope\", 'big')"
   ]
  },
  {
   "cell_type": "code",
   "execution_count": 1,
   "metadata": {},
   "outputs": [
    {
     "ename": "NameError",
     "evalue": "name 'S256Point' is not defined",
     "output_type": "error",
     "traceback": [
      "\u001b[0;31m---------------------------------------------------------------------------\u001b[0m",
      "\u001b[0;31mNameError\u001b[0m                                 Traceback (most recent call last)",
      "Cell \u001b[0;32mIn[1], line 6\u001b[0m\n\u001b[1;32m      1\u001b[0m \u001b[38;5;66;03m# print(Gx)\u001b[39;00m\n\u001b[1;32m      2\u001b[0m \u001b[38;5;66;03m# print(Gy)\u001b[39;00m\n\u001b[1;32m      3\u001b[0m \u001b[38;5;28;01mfrom\u001b[39;00m\u001b[38;5;250m \u001b[39m\u001b[38;5;21;01mbtclib\u001b[39;00m\u001b[38;5;21;01m.\u001b[39;00m\u001b[38;5;21;01mconstants\u001b[39;00m\u001b[38;5;250m \u001b[39m\u001b[38;5;28;01mimport\u001b[39;00m Gx, Gy, SECP256K1_A,SECP256K1_B, EC_ORDER\n\u001b[0;32m----> 6\u001b[0m (EC_ORDER\u001b[38;5;241m-\u001b[39m\u001b[38;5;241m3\u001b[39m)\u001b[38;5;241m*\u001b[39m\u001b[43mS256Point\u001b[49m(Gx,Gy,SECP256K1_A,SECP256K1_B)\n\u001b[1;32m      7\u001b[0m \u001b[38;5;66;03m# S256Point(12,12,SECP256K1_A,SECP256K1_B)\u001b[39;00m\n\u001b[1;32m     10\u001b[0m S256Point(Gx,Gy,SECP256K1_A,SECP256K1_B)\n",
      "\u001b[0;31mNameError\u001b[0m: name 'S256Point' is not defined"
     ]
    }
   ],
   "source": [
    "# print(Gx)\n",
    "# print(Gy)\n",
    "from btclib.constants import Gx, Gy, SECP256K1_A,SECP256K1_B, EC_ORDER\n",
    "\n",
    "\n",
    "(EC_ORDER-3)*S256Point(Gx,Gy,SECP256K1_A,SECP256K1_B)\n",
    "# S256Point(12,12,SECP256K1_A,SECP256K1_B)\n",
    "\n",
    "\n",
    "S256Point(Gx,Gy,SECP256K1_A,SECP256K1_B)"
   ]
  },
  {
   "cell_type": "markdown",
   "metadata": {},
   "source": [
    "## Public point serialisation\n",
    "with pretty print information on serialisation composition"
   ]
  },
  {
   "cell_type": "code",
   "execution_count": 17,
   "metadata": {},
   "outputs": [
    {
     "name": "stdout",
     "output_type": "stream",
     "text": [
      "r_x value (base 16) \u001b[1;35m37206a0610995c58074999cb9767b87af4c4978db68c06e8e6e81d282047a7c6\u001b[0m\n",
      "length of r_x (base 16):  \u001b[1;36m20\u001b[0m\n",
      "r_prefix byte (base 16) byte container \u001b[1;31m02\u001b[0m\n",
      "r_x EXPECT:\u001b[1;31m02\u001b[0m\u001b[1;36m20\u001b[0m\u001b[1;35m37206a0610995c58074999cb9767b87af4c4978db68c06e8e6e81d282047a7c6\u001b[0m\n",
      "\n",
      "\n",
      "sig length (base 16): \u001b[1;90m21\u001b[0m\n",
      "sig value (base 16):  \u001b[1;33m008ca63759c1157ebeaec0d03cecca119fc9a75bf8e6d0fa65c841c8e2738cdaec\u001b[0m\n",
      "sig prefix byte (base 16) byte container: \u001b[1;94m02\u001b[0m\n",
      "sig EXPECT:  \u001b[1;94m02\u001b[0m\u001b[1;90m21\u001b[0m\u001b[1;33m008ca63759c1157ebeaec0d03cecca119fc9a75bf8e6d0fa65c841c8e2738cdaec\u001b[0m\n",
      "\n",
      "\n",
      "Prefix byte (base 16):  \u001b[0;32m30\u001b[0m\n",
      "total sig length (base16):  \u001b[1;97m45\u001b[0m\n",
      "\n",
      "Distinguished encoding representation for signatures in hex base. der signature serialization:\n",
      "\n",
      "\u001b[0;32m30\u001b[0m\u001b[1;97m45\u001b[0m\u001b[1;31m02\u001b[0m\u001b[1;36m20\u001b[0m\u001b[1;35m37206a0610995c58074999cb9767b87af4c4978db68c06e8e6e81d282047a7c6\u001b[0m\u001b[1;94m02\u001b[0m\u001b[1;90m21\u001b[0m\u001b[1;33m008ca63759c1157ebeaec0d03cecca119fc9a75bf8e6d0fa65c841c8e2738cdaec\u001b[0m\n",
      "\n",
      "key:\n",
      "\u001b[0;32mSignature prefix \u001b[0m\n",
      "\u001b[1;97mLength of complete signature\u001b[0m\n",
      "\u001b[1;31mr_x prefix \u001b[0m\n",
      "\u001b[1;36mr_x length \u001b[0m\n",
      "\u001b[1;35mr_x value \u001b[0m\n",
      "\u001b[1;94msignature prefix \u001b[0m\n",
      "\u001b[1;90msignature length \u001b[0m\n",
      "\u001b[1;33msignature value \u001b[0m\n",
      "\n"
     ]
    }
   ],
   "source": [
    "from btclib.ec import S256Point, SecretKey\n",
    "from btclib.ecds import Signature\n",
    "from btclib.constants import Gx, Gy, SECP256K1_A,SECP256K1_B\n",
    "import sys \n",
    "\n",
    "# hasattr(S256Point, \"sec\")\n",
    "# hasattr(Signature, \"der\")\n",
    "\n",
    "# gp = S256Point(Gx, Gy, SECP256K1_A, SECP256K1_B)\n",
    "R\n",
    "# gp.sec(display=True)\n",
    "r_x = 0x37206a0610995c58074999cb9767b87af4c4978db68c06e8e6e81d282047a7c6\n",
    "s = 0x8ca63759c1157ebeaec0d03cecca119fc9a75bf8e6d0fa65c841c8e2738cdaec\n",
    "\n",
    "# print(sys.getsizeof(Signature(r_x, s).der().hex()))\n",
    "# x = Signature(r_x, s).der().hex()\n",
    "\n",
    "x2 = Signature(r_x, s).der(display=True).hex()\n",
    "\n",
    "# print(\"length of sig value\", int('21', 16))\n",
    "\n",
    "# print('Actual length sig value', '8ca63759c1157ebeaec0d03cecca119fc9a75bf8e6d0fa65c841c8e2738cdaec'.__len__())\n",
    "# print(\"length of r_x value\", int('20', 16))\n",
    "# a= '3045022037206a0610995c58074999cb9767b87af4c4978db68c06e8e6e81d282047a7c602218ca63759c1157ebeaec0d03cecca119fc9a75bf8e6d0fa65c841c8e2738cdaec'\n",
    "# b= '3045022037206a0610995c58074999cb9767b87af4c4978db68c06e8e6e81d282047a7c60221008ca63759c1157ebeaec0d03cecca119fc9a75bf8e6d0fa65c841c8e2738cdaec'\n",
    "# print(x)\n",
    "# print(x2)\n",
    "# sys.getsizeof(b)\n",
    "# print(\"length of complete sig\", int('45', 16))\n",
    "# print(\"ACtual length of complete signture\", '022037206a0610995c58074999cb9767b87af4c4978db68c06e8e6e81d282047a7c602218ca63759c1157ebeaec0d03cecca119fc9a75bf8e6d0fa65c841c8e2738cdaec'.__len__())"
   ]
  },
  {
   "cell_type": "markdown",
   "metadata": {},
   "source": [
    "## Signature serialization \n",
    "with pretty print enabled"
   ]
  },
  {
   "cell_type": "code",
   "execution_count": 2,
   "metadata": {},
   "outputs": [
    {
     "name": "stdout",
     "output_type": "stream",
     "text": [
      "\n",
      "\u001b[0;32m02\u001b[0m\u001b[1;35m644e7bcaf03fc16b300b5b1645e0fa73b7f5ac9fff270e0613999dbec305ac59\u001b[0m\n",
      "\n",
      "Compressed SEC format in hex representation; even y coordinate\n",
      "\n",
      "key:\n",
      "\u001b[0;32mprefix byte\u001b[0m\n",
      "\u001b[1;35mx coordinate of public point in hex\u001b[0m\n",
      "\n"
     ]
    },
    {
     "data": {
      "text/plain": [
       "True"
      ]
     },
     "execution_count": 2,
     "metadata": {},
     "output_type": "execute_result"
    }
   ],
   "source": [
    "from btclib.ec import S256Point\n",
    "from btclib.constants import Gx, Gy, SECP256K1_A, SECP256K1_B\n",
    "\n",
    "pk = 668868866 * S256Point(Gx, Gy, SECP256K1_A, SECP256K1_B) # even \n",
    "b = pk.sec(display=True)\n",
    "# print(b)\n",
    "b[0] == 2\n",
    "int.from_bytes(b[1:], 'big') == int('644e7bcaf03fc16b300b5b1645e0fa73b7f5ac9fff270e0613999dbec305ac59',16)"
   ]
  },
  {
   "cell_type": "code",
   "execution_count": 29,
   "metadata": {},
   "outputs": [
    {
     "name": "stdout",
     "output_type": "stream",
     "text": [
      "\n",
      "\u001b[0;32m04\u001b[0m\u001b[1;35m6fe50b285af96708ad084423dc791fe8c1e3a060437aada0f1eb001643215e80\u001b[0m\u001b[1;36m71769872680384f8b4f6d9191813857b01c3b5d671a7be8eaa65e919652f92ce\u001b[0m\n",
      "\n",
      "Uncompressed SEC format in hex representation\n",
      "\n",
      "key:\n",
      "\u001b[0;32mprefix byte\u001b[0m\n",
      "\u001b[1;35mx coordinate of public point\u001b[0m\n",
      "\u001b[1;36my coordinate of public point\u001b[0m\n",
      "\n",
      "64\n"
     ]
    }
   ],
   "source": [
    "# pk = 666* S256Point(Gx, Gy, SECP256K1_A, SECP256K1_B) # odd \n",
    "# pk.sec(display=True)\n",
    "\n",
    "pk = 1066 * S256Point(Gx, Gy, SECP256K1_A, SECP256K1_B) # even \n",
    "b = pk.sec(compressed=False, display=True)\n",
    "assert b[0] == 4\n",
    "xr = f\"{int.from_bytes(b[1:33], 'big'):x}\"\n",
    "yr = f\"{int.from_bytes(b[33:], 'big'):x}\"\n",
    "x =  '6fe50b285af96708ad084423dc791fe8c1e3a060437aada0f1eb001643215e80'\n",
    "y = '71769872680384f8b4f6d9191813857b01c3b5d671a7be8eaa65e919652f92ce'\n",
    "assert xr == x\n",
    "assert yr == y "
   ]
  },
  {
   "cell_type": "code",
   "execution_count": null,
   "metadata": {},
   "outputs": [],
   "source": []
  },
  {
   "cell_type": "code",
   "execution_count": null,
   "metadata": {},
   "outputs": [],
   "source": [
    "# print(x)\n",
    "\n",
    "tot_sig_prefix = x[:2]\n",
    "tot_len = x[2:4]\n",
    "r_x_prefix = x[4:6]\n",
    "\n",
    "#  NOTE \n",
    "# Why to I have to multiple by 2 get the right answer? for the length?\n",
    "r_x_len16 = x[6:8] # base 16 \n",
    "\n",
    "r_x_len10 = int(r_x_len16,16) *2  # how chars, one char = 2 bytes are the r_x value\n",
    "\n",
    "\n",
    "\n",
    "# x  = bytes(x, 'utf-8')\n",
    "r_x_val = x[8:8+r_x_len10]\n",
    "\n",
    "sig_prefix = x[8+r_x_len10:8+r_x_len10 +2]\n",
    "\n",
    "sig_len16 = x[8+r_x_len10 +2:8+r_x_len10 +2 + 2]\n",
    "\n",
    "sig_len10 = int(sig_len16, 16) * 2   \n",
    "sig_val = x[8+r_x_len10 +2 + 2 : 8+r_x_len10 +2 + 2 + sig_len10]\n",
    "print(f\"{sig_prefix=}\")\n",
    "print(f\"{tot_len=}\")\n",
    "print(f\"{r_x_prefix=}\")\n",
    "print(f\"base 16 {r_x_len16=}\")\n",
    "print(f\"base 10 {r_x_len10=}\")\n",
    "print(f\"{r_x_val=}\")#\n",
    "print(f\"{sig_prefix=}\")\n",
    "print(f\"{sig_len10=}\")\n",
    "print(f\"{sig_val=}\")\n",
    "'37206a0610995c58074999cb9767b87af4c4978db68c06e8e6e81d282047a7c6'.__len__()"
   ]
  },
  {
   "cell_type": "code",
   "execution_count": null,
   "metadata": {},
   "outputs": [],
   "source": [
    "# f\n",
    "# hex(int('37206a0610995c58074999cb9767b87af4c4978db68c06e8e6e81d282047a7c6', 16).to_bytes( 32, 'big').__len__())\n",
    "\n",
    "\n",
    "\n",
    "sig_len = int('21', 16)\n",
    "print(sig_len)\n",
    "print(f\"{int('8ca63759c1157ebeaec0d03cecca119fc9a75bf8e6d0fa65c841c8e2738cdaec', 16).to_bytes(int('21', 16), 'big' ).__len__():x}\")\n",
    "\n",
    "# f\"{'37206a0610995c58074999cb9767b87af4c4978db68c06e8e6e81d282047a7c6'.__len__():x}\"\n",
    "\n",
    "# f\"{bytes(b'37206a0610995c58074999cb9767b87af4c4978db68c06e8e6e81d282047a7c6').__len__():x}\""
   ]
  },
  {
   "cell_type": "code",
   "execution_count": null,
   "metadata": {},
   "outputs": [],
   "source": [
    "\n",
    "32 * 8"
   ]
  },
  {
   "cell_type": "code",
   "execution_count": null,
   "metadata": {},
   "outputs": [],
   "source": [
    "# print(f\"{int(256).to_bytes(32, 'big'):b}\")\n",
    "\n",
    "\n",
    "base10 = 199 \n",
    "container_size= 32 # in bytes\n",
    "bits_in_byte = 8\n",
    "bytes_string = int(base10).to_bytes(container_size, 'big')\n",
    "print(f\"Lets convert the base 10 value of {base10}, into a {container_size} bytes container, using int({base10}).to_bytes({container_size}, 'big')=\\n{bytes_string}\\n\")\n",
    "\n",
    "print(f\"NOTICE: the leading zeros due to using big-endian format (with little-endian, they would trailing insted of leading),\\nand that this has a length of {container_size}. I.e. len(int({base10}).to_bytes({container_size}, 'big')) = {len(bytes_string)}\\n\")\n",
    "\n",
    "print(f\"NOTICE: the leading zeros do not appear in the conversion to base 2 from base 10 of value of {base10} using the bin(int({base10})).lstrip('0b') method\\n(here there is no specification of the container size which {base10} should be placed into)\\n\")\n",
    "print(f\"bin({base10})={bin(int(base10)).lstrip('0b')}, a length of {bin(int(base10)).lstrip('0b').__len__()}\")\n",
    "# print(f\"But we know that this is a number {x} is supposed to be in 32 bytes (256 bit) container\")\n",
    "print(f\"Hence, we may fill with leading zeros (given big-endian format), until we read a length of {container_size}x{bits_in_byte}=256 given a base 2 value, equaling the container size of 32 bytes \")\n",
    "print(f\"I.e.: {bin(int(base10)).lstrip('0b')} and \\n{bin(int(base10)).lstrip('0b').zfill(container_size * bits_in_byte)}\\nwill be parsed by python as the same value.\")\n",
    "xb = bin(int(base10)).lstrip('0b')\n",
    "xbp = bin(int(base10)).lstrip('0b').zfill(container_size * bits_in_byte)\n",
    "print(\"\\nPROOF:\")\n",
    "print(f\"Are\\n{xb}\\nand\\n{xbp}\\nequal when parse from base 2 into base 10?\")\n",
    "print(int(xb, 2) == int(xbp, 2)) \n",
    "\n",
    "print(f\"\\nBut for serialization and in my circumstances I want to serialized the values, padded upto their container size of {container_size} bytes but in base 16\\n\")\n",
    "\n",
    "print(f\"The problem arises when changing the base from 2, to 16, hexadicmal, and calculating what the container length of a 32 byte container should be, when representing a value in base 16\\n\")\n",
    "print(f\"The value of {base10} (base 10), in base 16 presentation: {hex(int(base10)).lstrip('0x')}\")\n",
    "print(f\"But given a container size of {container_size} bytes, what should the length of of the container be in base 16?\\n\")\n",
    "print(f\"To jump from base 2 to base 16, you exponentiate the base 2 to the power of 4; 2**4=16\\n\")\n",
    "print(f\"This means the final container length for the value {base10} (base 10) into base 16, given a container size {container_size} bytes,  will have a length of {256}/{4}={int(256/4)}.\\nI.e. the container lengths in the different basis changes, for the same container size\")\n",
    "base16_32byte_contaner_length = int(256/4) \n",
    "print(f\"I.e\\n{hex(int(base10)).lstrip('0x')} and\\n {hex(int(base10)).lstrip('0x').zfill(base16_32byte_contaner_length)}\\n will be parsed by python as the same value\\n\")\n",
    "print(\"PROOF:\")\n",
    "xh = hex(int(base10)).lstrip('0x')\n",
    "xhp = hex(int(base10)).lstrip('0x').zfill(base16_32byte_contaner_length)\n",
    "print(f\"Are\\n{xh}\\nand\\n{xhp}\\nequal when parsed from base 16 in base 10?\")\n",
    "print(int(xh, 16) == int(xhp, 16)) \n",
    "\n",
    "\n",
    "\n",
    "\n"
   ]
  },
  {
   "cell_type": "code",
   "execution_count": null,
   "metadata": {},
   "outputs": [],
   "source": [
    "\n",
    "\n",
    "print(\"Although 256 in bytes doesnt take up 32 bytes of space, yet the length of int(256).to_bytes(32, 'big')=\", int(256).to_bytes(32, 'big').__len__())\n",
    "print(\"32 byte container has a lenth of {} in base 2\")\n",
    "print(f\"In bits, this 32 byte container is {int(256):b}\")\n"
   ]
  },
  {
   "cell_type": "markdown",
   "metadata": {},
   "source": [
    "- want to store these objects; PublicKey(S256Point), SceretKey and Signatures on disk and possibly transmit over network. \n",
    "\n",
    "## Uncompressed SEC format; Standards for efficient cryptography "
   ]
  },
  {
   "cell_type": "code",
   "execution_count": null,
   "metadata": {},
   "outputs": [],
   "source": [
    "sks = [5000, 2018**4, 0xAFFBEE1234]\n",
    "for sk in sks:\n",
    "    print(f\"public key for secret key {sk}\")\n",
    "    print(SecretKey(sk=sk).pk.sec(False).hex())\n",
    "    print(f\"Compressed public key for secret key {sk}\")\n",
    "    print(SecretKey(sk=sk).pk.sec(True).hex())"
   ]
  },
  {
   "cell_type": "markdown",
   "metadata": {},
   "source": [
    "## Transactions"
   ]
  },
  {
   "cell_type": "code",
   "execution_count": null,
   "metadata": {},
   "outputs": [],
   "source": [
    "from btclib.utils import hash256\n",
    "import requests\n",
    "from io import BytesIO\n",
    "\n",
    "\n",
    "class TxFetcher:\n",
    "    cache = {}\n",
    "\n",
    "    @classmethod\n",
    "    def get_url(cls, testnet=False):\n",
    "        if testnet:\n",
    "            return \"https://testnet.programmingbitcoin.com\"\n",
    "        else:\n",
    "            return \"https://mainnet.programmingbitcoin.com\"\n",
    "\n",
    "    @classmethod\n",
    "    def fetch(cls, tx_id, testnet=False, fresh=False):\n",
    "        if fresh or (tx_id not in cls.cache):\n",
    "            url = f\"{cls.get_url(testnet)}/tx/{tx_id}.hex\"\n",
    "            response = requests.get(url)\n",
    "            try:\n",
    "                raw = bytes.fromhex(response.text.strip())\n",
    "            except ValueError:\n",
    "                raise ValueError(f\"Unexpected response: {response.text}\")\n",
    "            if raw[4] == 0:\n",
    "                raw = raw[:4] + raw[6:]\n",
    "                tx = Tx.parse(BytesIO(raw), testnet=testnet)\n",
    "                tx.locktime = int.from_bytes(raw[-4:], \"little\")\n",
    "            else:\n",
    "                tx = Tx.parse(BytesIO(raw), testnet=testnet)\n",
    "            if tx.id() != tx_id:\n",
    "                raise ValueError(\n",
    "                    f\"Received unmatching tx ids: {tx.id()} versus {tx_id}\"\n",
    "                )\n",
    "\n",
    "            cls.cache[tx_id] = tx\n",
    "\n",
    "        cls.cache[tx_id].testnet = testnet\n",
    "        return cls.cache[tx_id]\n",
    "\n",
    "\n",
    "class Tx:\n",
    "\n",
    "    def __init__(self, version, tx_ins, tx_outs, locktime, testnet=False):\n",
    "        self.version = version\n",
    "        self.tx_ins = tx_ins\n",
    "        self.tx_outs = tx_outs\n",
    "        self.locktime = locktime\n",
    "        self.testnet = testnet\n",
    "\n",
    "    def __repr__(self):\n",
    "        tx_ins = \"\"\n",
    "        for tx_in in self.tx_ins:\n",
    "            txt_ins += tx_in.__repr__() + \"\\n\"\n",
    "        tx_outs = \"\"\n",
    "        for tx_out in self.tx_outs:\n",
    "            txt_outs += tx_out.__repr__() + \"\\n\"\n",
    "        return f\"Tx: {self.id()}\\nverison: {self.version}\\ntx_ins:\\n{tx_ins}tx_outs:\\n{tx_outs}locktime: {self.locktime}\"\n",
    "\n",
    "    def id(self):\n",
    "        return self.hash().hex()\n",
    "\n",
    "    def hash(self):\n",
    "        return hash256(self.serialize())[::-1]\n",
    "\n",
    "    def serialize(self):\n",
    "        result = self.version.to_bytes(4, \"little\")\n",
    "        result += encode_varint(len(self.tx_ins))\n",
    "        for tx_in in self.tx_ins:\n",
    "            result += tx_in.serialize()\n",
    "\n",
    "        result += encode_varint(len(self.tx_outs))\n",
    "        for tx_out in self.tx_outs:\n",
    "            result += tx_out.serialize()\n",
    "        result += self.locktime.to_bytes(4, \"little\")\n",
    "        return result\n",
    "\n",
    "    @classmethod\n",
    "    def parse(cls, s):\n",
    "        version = s.read(4)\n",
    "        pass\n",
    "\n",
    "\n",
    "class TxIn:\n",
    "\n",
    "    def __init__(self, prev_tx, prev_index, script_sig=None, sequence=0xFFFFFFFF):\n",
    "        self.prev_tx = prev_tx\n",
    "        self.prev_index = prev_index\n",
    "        if script_sig is None:\n",
    "            self.script_sig = Script()\n",
    "        else:\n",
    "            self.script_sig = script_sig\n",
    "        self.sequence = sequence\n",
    "\n",
    "    def __repr__(self):\n",
    "        return f\"{self.prev_tx.hex()}:{self.prev_index}\"\n",
    "\n",
    "    def fetch_tx(self, testnet=False):\n",
    "        return TxFetcher.fetch(self.prev_tx.hex(), testnet=testnet)\n",
    "\n",
    "    def value(self, testnet=False):\n",
    "        tx = self.fetch_tx(testnet=testnet)\n",
    "        return tx.tx_outs[self.prev_index].amount\n",
    "\n",
    "    def script_pubkey(self, testnet=False):\n",
    "        tx = self.fetch_tx(self.prev_index)\n",
    "        return tx.tx_outs[self.prev_index].script_pubkey\n",
    "\n",
    "    def serialize(self):\n",
    "        result = self.prev_tx[::-1]\n",
    "        result += self.prev_index.to_bytes(4, \"little\")\n",
    "        result += self.script_sig.serialize()\n",
    "        result += self.sequence.to_bytes(4, \"little\")\n",
    "        return result\n",
    "\n",
    "\n",
    "class TxOut:\n",
    "\n",
    "    def __init__(self, amount, script_pubkey):\n",
    "        self.amount = amount\n",
    "        self.script_pubkey = script_pubkey\n",
    "\n",
    "    def __repr__(self):\n",
    "        return f\"{self.amount}:{self.script_pubkey}\"\n",
    "\n",
    "    def serialize(self):\n",
    "\n",
    "        result = self.amount.to_bytes(8, \"little\")\n",
    "        result += self.script_pubkey.serialize()\n",
    "        return result\n",
    "\n",
    "\n",
    "def read_varint(s):\n",
    "    i = s.read(1)[0]\n",
    "    if i == 0xFD:\n",
    "        return int.from_bytes(s.read(2), \"little\")\n",
    "    elif i == 0xFE:\n",
    "        return int.from_bytes(s.read(4), \"little\")\n",
    "    elif i == 0xFF:\n",
    "        return int.from_bytes(s.read(8), \"little\")\n",
    "    else:\n",
    "        return i\n",
    "\n",
    "\n",
    "def encode_varint(i):\n",
    "    if i < 0xFD:\n",
    "        return bytes([i])\n",
    "    elif i < 0x10000:\n",
    "        return b\"\\xfd\" + i.to_bytes(2, \"little\")\n",
    "    elif i < 0x100000000:\n",
    "        return b\"\\xfe\" + i.to_bytes(4, \"little\")\n",
    "    elif i < 0x10000000000000000:\n",
    "        return b\"\\xff\" + i.to_bytes(8, \"little\")\n",
    "    else:\n",
    "        raise ValueError(f\"Integer {i} is too large\")"
   ]
  },
  {
   "cell_type": "markdown",
   "metadata": {},
   "source": [
    "## Script; smart contract programming langauge "
   ]
  },
  {
   "cell_type": "markdown",
   "metadata": {},
   "source": [
    "### Operation codes; opcodes"
   ]
  },
  {
   "cell_type": "code",
   "execution_count": 6,
   "metadata": {},
   "outputs": [],
   "source": [
    "from btclib.utils import hash160, hash256\n",
    "\n",
    "\n",
    "def op_dup(stack):\n",
    "    if len(stack) < 1:\n",
    "        return False\n",
    "    stack.append(stack[-1])\n",
    "    return True\n",
    "\n",
    "\n",
    "def op_hash256(stack):\n",
    "    if len(stack) < 1:\n",
    "        return False\n",
    "    el = stack.pop()  # last in list\n",
    "    stack.append(hash256(el))\n",
    "    return True\n",
    "\n",
    "\n",
    "def op_hash160(stack):\n",
    "    if len(stack) < 1:\n",
    "        return False\n",
    "    el = stack.pop()  # last in list\n",
    "    stack.append(hash160(el))\n",
    "    return True\n",
    "\n",
    "\n",
    "OP_CODE_FUNCTIONS = {\n",
    "    118: op_dup,\n",
    "    0xA9: op_hash160,\n",
    "    170: op_hash256,\n",
    "}\n",
    "\n",
    "OP_CODE_NAMES = {}\n",
    "\n",
    "\n",
    "\n"
   ]
  },
  {
   "cell_type": "markdown",
   "metadata": {},
   "source": [
    "### Script Parser and serialiser\n"
   ]
  },
  {
   "cell_type": "code",
   "execution_count": null,
   "metadata": {},
   "outputs": [],
   "source": []
  },
  {
   "cell_type": "code",
   "execution_count": null,
   "metadata": {},
   "outputs": [],
   "source": [
    "x = [1, 2, 3, 4, 5]\n",
    "\n",
    "el = x.pop()\n",
    "\n",
    "print(x)\n",
    "print(el)\n",
    "\n",
    "0x100"
   ]
  },
  {
   "cell_type": "markdown",
   "metadata": {
    "vscode": {
     "languageId": "plaintext"
    }
   },
   "source": [
    "# "
   ]
  }
 ],
 "metadata": {
  "kernelspec": {
   "display_name": "btclib-36eTZU9P",
   "language": "python",
   "name": "python3"
  },
  "language_info": {
   "codemirror_mode": {
    "name": "ipython",
    "version": 3
   },
   "file_extension": ".py",
   "mimetype": "text/x-python",
   "name": "python",
   "nbconvert_exporter": "python",
   "pygments_lexer": "ipython3",
   "version": "3.10.12"
  }
 },
 "nbformat": 4,
 "nbformat_minor": 2
}
