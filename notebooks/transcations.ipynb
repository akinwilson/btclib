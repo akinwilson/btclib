{
 "cells": [
  {
   "cell_type": "markdown",
   "metadata": {},
   "source": [
    "## Transactions"
   ]
  },
  {
   "cell_type": "code",
   "execution_count": null,
   "metadata": {},
   "outputs": [],
   "source": [
    "%%capture\n",
    "!pip install selenium"
   ]
  },
  {
   "cell_type": "code",
   "execution_count": null,
   "metadata": {},
   "outputs": [
    {
     "name": "stdout",
     "output_type": "stream",
     "text": [
      "{'hash': '452c629d67e41baec3ac6f04fe744b4b9617f8f859c63b3002f8684e7a4fee03',\n",
      " 'ins': [{'n': 0,\n",
      "          'script': {'asm': '3045022100ed81ff192e75a3fd2304004dcadb746fa5e24c5031ccfcf21320b0277457c98f02207a986d955c6e0cb35d446a89d3f56100f4d7f67801c31967743a9c8e10615bed01 '\n",
      "                            '0349fc4e631e3624a545de3f89f5d8684c7b8138bd94bdd531d2e213bf016b278a',\n",
      "                     'hex': '483045022100ed81ff192e75a3fd2304004dcadb746fa5e24c5031ccfcf21320b0277457c98f02207a986d955c6e0cb35d446a89d3f56100f4d7f67801c31967743a9c8e10615bed01210349fc4e631e3624a545de3f89f5d8684c7b8138bd94bdd531d2e213bf016b278a'},\n",
      "          'sequence': 4294967294,\n",
      "          'txid': 'd1c789a9c60383bf715f3f6ad9d14b91fe55f3deb369fe5d9280cb1a01793f81',\n",
      "          'witness': []}],\n",
      " 'locktime': 410393,\n",
      " 'outs': [{'n': 0,\n",
      "           'script': {'addresses': ['1JAHBxA51vwp5C2zpSB15VbxSZK3hVJs2H'],\n",
      "                      'asm': 'OP_DUP OP_HASH160 '\n",
      "                             'bc3b654dca7e56b04dca18f2566cdaf02e8d9ada '\n",
      "                             'OP_EQUALVERIFY OP_CHECKSIG',\n",
      "                      'hex': '76a914bc3b654dca7e56b04dca18f2566cdaf02e8d9ada88ac'},\n",
      "           'value': 32454049},\n",
      "          {'n': 1,\n",
      "           'script': {'addresses': ['13achaY7hdFTEHCzWC1Cvuo1FDKzDtAvRt'],\n",
      "                      'asm': 'OP_DUP OP_HASH160 '\n",
      "                             '1c4bc762dd5423e332166702cb75f40df79fea12 '\n",
      "                             'OP_EQUALVERIFY OP_CHECKSIG',\n",
      "                      'hex': '76a9141c4bc762dd5423e332166702cb75f40df79fea1288ac'},\n",
      "           'value': 10011545}],\n",
      " 'txid': '452c629d67e41baec3ac6f04fe744b4b9617f8f859c63b3002f8684e7a4fee03',\n",
      " 'version': 1}\n"
     ]
    }
   ],
   "source": [
    "from selenium import webdriver\n",
    "from selenium.webdriver.firefox.options import Options\n",
    "import time\n",
    "from selenium.webdriver.support.ui import WebDriverWait\n",
    "from selenium.webdriver.common.by import By\n",
    "from selenium.webdriver.support import expected_conditions as EC\n",
    "import json \n",
    "from pprint import pprint \n",
    "# Set up Chrome options for headless browsing\n",
    "\n",
    "class TxParsingVerification:\n",
    "\n",
    "    # Locate the textarea input element and the button (using class names)\n",
    "    xpath_textarea = '/html/body/div/div[2]/div[2]/main/div/div/div[1]/div[1]/textarea'\n",
    "    xpath_decode = '/html/body/div/div[2]/div[2]/main/div/div/div[1]/div[1]/div/button[1]'\n",
    "    xpath_parsed_tx = '/html/body/div/div[2]/div[2]/main/div/div/div[1]/div[2]/div[2]/pre'\n",
    "  \n",
    "    def __init__(self,raw_tx, url=\"https://www.blockchain.com/explorer/assets/btc/decode-transaction\"):\n",
    "        self.raw_tx = raw_tx\n",
    "        self.url = url \n",
    "        options = Options()\n",
    "        options.add_argument(\"--headless\")  # Runs Chrome in headless mode\n",
    "        options.add_argument(\"--no-sandbox\")  # For environments like Docker\n",
    "        options.add_argument(\"--disable-dev-shm-usage\")  # To avoid certain ChromeDriver issues\n",
    "        self.driver = webdriver.Firefox(options=options)\n",
    "\n",
    "    def __call__(self,) -> dict: \n",
    "        self.driver.get(self.url)\n",
    "        time.sleep(3)\n",
    "        WebDriverWait(self.driver, 3).until(EC.element_to_be_clickable((By.XPATH, TxParsingVerification.xpath_textarea))).send_keys(self.raw_tx)\n",
    "        self.driver.find_element(By.XPATH, TxParsingVerification.xpath_decode).click()\n",
    "        result = json.loads(self.driver.find_element(By.XPATH, TxParsingVerification.xpath_parsed_tx).text)\n",
    "        self.driver.quit()\n",
    "        return result \n",
    "\n",
    "\n",
    "\n",
    "\n",
    "\n",
    "# # Navigate to the Blockchain.com transaction decoder page\n",
    "# url = \"https://www.blockchain.com/explorer/assets/btc/decode-transaction\"\n",
    "# driver.get(url)\n",
    "\n",
    "# # Wait for the page to load (you may need to adjust the sleep time if the page is slow)\n",
    "# time.sleep(5)\n",
    "\n",
    "# # Locate the textarea input element and the button (using class names)\n",
    "# xpath_textarea = '/html/body/div/div[2]/div[2]/main/div/div/div[1]/div[1]/textarea'\n",
    "# # textarea = driver.find_element(By.XPATH, xpath)\n",
    "\n",
    "raw_tx  = (\n",
    " '0100000001813f79011acb80925dfe69b3def355fe914bd1d9'\n",
    " '6a3f5f71bf8303c6a989c7d1000000006b483045022100ed'\n",
    " '81ff192e75a3fd2304004dcadb746fa5e24c5031ccfcf213'\n",
    " '20b0277457c98f02207a986d955c6e0cb35d446a89d3f5610'\n",
    " '0f4d7f67801c31967743a9c8e10615bed01210349fc4e631e3'\n",
    " '624a545de3f89f5d8684c7b8138bd94bdd531d2e213bf016b27'\n",
    " '8afeffffff02a135ef01000000001976a914bc3b654dca7e56b'\n",
    " '04dca18f2566cdaf02e8d9ada88ac99c39800000000001976a9141'\n",
    " 'c4bc762dd5423e332166702cb75f40df79fea1288ac19430600')  # Replace with your actual raw transaction\n",
    "\n",
    "\n",
    "result = TxParsingVerification(raw_tx)()\n",
    "# driver.execute_script(f\"arguments[0].innerHTML = {raw_tx};\", textarea)\n",
    "# WebDriverWait(driver, 5).until(EC.element_to_be_clickable((By.XPATH, xpath_textarea))).send_keys(raw_tx)\n",
    "\n",
    "# xpath_decode = '/html/body/div/div[2]/div[2]/main/div/div/div[1]/div[1]/div/button[1]'\n",
    "# driver.find_element(By.XPATH, xpath_decode).click()\n",
    "\n",
    "# xpath_parsed_tx = '/html/body/div/div[2]/div[2]/main/div/div/div[1]/div[2]/div[2]/pre'\n",
    "\n",
    "# result = json.loads(driver.find_element(By.XPATH, xpath_parsed_tx).text)\n",
    "pprint(result)\n",
    "# decode_button = driver.find_element(By.CLASS_NAME, \"sc-2c07831f-3.kVQcIj\")\n",
    "\n",
    "# # Provide the raw Bitcoin transaction to the textarea (replace this with an actual raw transaction)\n",
    "\n",
    "# # Input the raw transaction into the textarea\n",
    "# textarea.send_keys(raw_transaction)\n",
    "\n",
    "# # Press the decode button (simulating a click)\n",
    "# decode_button.click()\n",
    "\n",
    "# # Wait for the page to update with the decoded transaction output\n",
    "# time.sleep(5)  # You may need to adjust this depending on page load speed\n",
    "\n",
    "# # Locate the pre tag that contains the decoded transaction data\n",
    "# decoded_output = driver.find_element(By.CLASS_NAME, \"sc-2c07831f-4.hOqXgK\").text\n",
    "\n",
    "# # Print out the decoded transaction data\n",
    "# print(\"Decoded Transaction Data:\")\n",
    "# print(decoded_output)\n",
    "\n",
    "# # Close the driver\n",
    "# driver.quit()\n"
   ]
  },
  {
   "cell_type": "code",
   "execution_count": 6,
   "metadata": {},
   "outputs": [
    {
     "data": {
      "text/plain": [
       "'452c629d67e41baec3ac6f04fe744b4b9617f8f859c63b3002f8684e7a4fee03'"
      ]
     },
     "execution_count": 6,
     "metadata": {},
     "output_type": "execute_result"
    }
   ],
   "source": [
    "result['hash']"
   ]
  },
  {
   "cell_type": "code",
   "execution_count": null,
   "metadata": {},
   "outputs": [],
   "source": [
    "tx_serialized = (\n",
    " '0100000001813f79011acb80925dfe69b3def355fe914bd1d9'\n",
    " '6a3f5f71bf8303c6a989c7d1000000006b483045022100ed'\n",
    " '81ff192e75a3fd2304004dcadb746fa5e24c5031ccfcf213'\n",
    " '20b0277457c98f02207a986d955c6e0cb35d446a89d3f5610'\n",
    " '0f4d7f67801c31967743a9c8e10615bed01210349fc4e631e3'\n",
    " '624a545de3f89f5d8684c7b8138bd94bdd531d2e213bf016b27'\n",
    " '8afeffffff02a135ef01000000001976a914bc3b654dca7e56b'\n",
    " '04dca18f2566cdaf02e8d9ada88ac99c39800000000001976a9141'\n",
    " 'c4bc762dd5423e332166702cb75f40df79fea1288ac19430600')\n",
    "\n",
    "\n",
    "from io import BytesIO\n",
    "from btclib.transaction import Tx \n",
    "\n",
    "\n",
    "\n",
    "# script_hex = ('6b483045022100ed81ff192e75a3fd2304004dcadb746fa5e24c50'\n",
    "#               '31ccfcf21320b0277457c98f02207a986d955c6e0cb35d446a89d3'\n",
    "#               'f56100f4d7f67801c31967743a9c8e10615bed01210349fc4e631e'\n",
    "#               '3624a545de3f89f5d8684c7b8138bd94bdd531d2e213bf016b278a')\n",
    "\n",
    "# bs1 = BytesIO(bytes.fromhex(script_hex))\n",
    "s = BytesIO(bytes.fromhex(tx_serialized))\n",
    "tx =  Tx.parse(s)\n",
    "tx.tx_ins[0].sequence \n",
    "tx.tx_outs[0].amount == 32454049\n",
    "tx.tx_outs[1].amount == 32454049\n",
    "tx.tx_outs[0].script_pubkey == '76a914bc3b654dca7e56b04dca18f2566cdaf02e8d9ada88ac'\n",
    "tx.tx_outs[1].script_pubkey == '76a9141c4bc762dd5423e332166702cb75f40df79fea1288ac'"
   ]
  },
  {
   "cell_type": "code",
   "execution_count": null,
   "metadata": {},
   "outputs": [],
   "source": [
    "\n",
    "\n",
    "tx_serialized = ('010000000456919960ac691763688d3d3bcea9ad6ecaf875df5339e148a1fc61c6ed7a069e0100'\n",
    "'00006a47304402204585bcdef85e6b1c6af5c2669d4830ff86e42dd205c0e089bc2a821657e951'\n",
    "'c002201024a10366077f87d6bce1f7100ad8cfa8a064b39d4e8fe4ea13a7b71aa8180f012102f0'\n",
    "'da57e85eec2934a82a585ea337ce2f4998b50ae699dd79f5880e253dafafb7feffffffeb8f51f4'\n",
    "'038dc17e6313cf831d4f02281c2a468bde0fafd37f1bf882729e7fd3000000006a473044022078'\n",
    "'99531a52d59a6de200179928ca900254a36b8dff8bb75f5f5d71b1cdc26125022008b422690b84'\n",
    "'61cb52c3cc30330b23d574351872b7c361e9aae3649071c1a7160121035d5c93d9ac96881f19ba'\n",
    "'1f686f15f009ded7c62efe85a872e6a19b43c15a2937feffffff567bf40595119d1bb8a3037c35'\n",
    "'6efd56170b64cbcc160fb028fa10704b45d775000000006a47304402204c7c7818424c7f7911da'\n",
    "'6cddc59655a70af1cb5eaf17c69dadbfc74ffa0b662f02207599e08bc8023693ad4e9527dc42c3'\n",
    "'4210f7a7d1d1ddfc8492b654a11e7620a0012102158b46fbdff65d0172b7989aec8850aa0dae49'\n",
    "'abfb84c81ae6e5b251a58ace5cfeffffffd63a5e6c16e620f86f375925b21cabaf736c779f88fd'\n",
    "'04dcad51d26690f7f345010000006a47304402200633ea0d3314bea0d95b3cd8dadb2ef79ea833'\n",
    "'1ffe1e61f762c0f6daea0fabde022029f23b3e9c30f080446150b23852028751635dcee2be669c'\n",
    "'2a1686a4b5edf304012103ffd6f4a67e94aba353a00882e563ff2722eb4cff0ad6006e86ee20df'\n",
    "'e7520d55feffffff0251430f00000000001976a914ab0c0b2e98b1ab6dbf67d4750b0a56244948'\n",
    "'a87988ac005a6202000000001976a9143c82d7df364eb6c75be8c80df2b3eda8db57397088ac46'\n",
    "'430600')\n",
    "\n",
    "from btclib.transaction import Tx\n",
    "from io import  BytesIO\n",
    "Tx.parse(BytesIO(bytes.fromhex(tx_serialized)))"
   ]
  },
  {
   "cell_type": "code",
   "execution_count": null,
   "metadata": {},
   "outputs": [],
   "source": [
    "expect = 'd1c789a9c60383bf715f3f6ad9d14b91fe55f3deb369fe5d9280cb1a01793f81'\n",
    "tx.tx_ins[0].prev_index == 0 \n",
    "tx.tx_ins[0].prev_tx.hex() == expect \n",
    "tx.tx_ins.__len__() == 1 \n",
    "\n",
    "# want = bytes.fromhex()\n",
    "\n",
    "# want.hex()"
   ]
  },
  {
   "cell_type": "code",
   "execution_count": null,
   "metadata": {},
   "outputs": [],
   "source": [
    "\n",
    "from io import BytesIO\n",
    "\n",
    "\n",
    "s = BytesIO(bytes.fromhex(('a135ef01000000001976a914bc3b654dca7e56b'\n",
    " '04dca18f2566cdaf02e8d9ada88ac99c39800000000001976a9141'\n",
    " 'c4bc762dd5423e332166702cb75f40df79fea1288ac19430600')))\n",
    "\n",
    "from btclib.transaction import TxOut\n",
    "\n",
    "\n",
    "TxOut.parse(s)\n"
   ]
  },
  {
   "cell_type": "code",
   "execution_count": null,
   "metadata": {},
   "outputs": [],
   "source": [
    "tx.version\n",
    "\n",
    "'d1c789a9c60383bf715f3f6ad9d14b91fe55f3deb369fe5d9280cb1a01793f81'.__len__()"
   ]
  },
  {
   "cell_type": "code",
   "execution_count": null,
   "metadata": {},
   "outputs": [],
   "source": [
    "t# from btclib.transactions import TxFetcher, Tx,TxIn,TxOut\n",
    "2**64-1"
   ]
  },
  {
   "cell_type": "code",
   "execution_count": null,
   "metadata": {},
   "outputs": [],
   "source": [
    "import IPython\n",
    "IPython.paths.get_ipython_dir()\n",
    "print(\"Hello\")"
   ]
  },
  {
   "cell_type": "code",
   "execution_count": null,
   "metadata": {},
   "outputs": [],
   "source": [
    "int(1844674407370955000).to_bytes(8, 'little').hex()"
   ]
  },
  {
   "cell_type": "code",
   "execution_count": null,
   "metadata": {},
   "outputs": [],
   "source": [
    "\n",
    "\n",
    "from io import BytesIO\n",
    "stream_str = BytesIO\n",
    "t = bytes.fromhex( 'FD10')  # 16\n",
    "t = bytes.fromhex('FE2b020000') # 555\n",
    "t = bytes.fromhex('FFcb10c7bab88d0600') #  1844674407370955\n",
    "\n",
    "s = BytesIO(t) # .read(1)[0]\n",
    "\n",
    "from btclib.transaction import Varint\n",
    "\n",
    "\n",
    "Varint.decode(BytesIO(bytes.fromhex(Varint.encode(555).hex())))\n",
    "\n"
   ]
  },
  {
   "cell_type": "code",
   "execution_count": null,
   "metadata": {},
   "outputs": [],
   "source": [
    "\n",
    "from io import BytesIO\n",
    "stream_str = BytesIO\n",
    "t = bytes.fromhex('FFcb10c7bab88d0600') #  1844674407370955\n",
    "\n",
    "s= BytesIO(t).read(1) # .read(1)[0]\n",
    "print(s)\n",
    "s= BytesIO(t).read(3)\n",
    "print(s)\n"
   ]
  },
  {
   "cell_type": "code",
   "execution_count": null,
   "metadata": {},
   "outputs": [],
   "source": [
    "from io import BytesIO\n",
    "from btclib.script import Script  # <1>\n",
    "\n",
    "# stream = BytesIO(bytes.fromhex(script_hex))\n",
    "# script_sig = Script.parse(stream)\n",
    "# print(script_sig)\n",
    "script_hex\n",
    "#3045022100ed81ff192e75a3fd2304004dcadb746fa5e24c5031ccfcf21320b0277457c98f02207a986d955c6e0cb35d446a89d3f56100f4d7f67801c31967743a9c8e10615bed010349fc4e631e3624a545de3f89f5d8684c7b8138bd94bdd531d2e213bf016b278a"
   ]
  }
 ],
 "metadata": {
  "kernelspec": {
   "display_name": "btclib-36eTZU9P",
   "language": "python",
   "name": "python3"
  },
  "language_info": {
   "codemirror_mode": {
    "name": "ipython",
    "version": 3
   },
   "file_extension": ".py",
   "mimetype": "text/x-python",
   "name": "python",
   "nbconvert_exporter": "python",
   "pygments_lexer": "ipython3",
   "version": "3.10.12"
  }
 },
 "nbformat": 4,
 "nbformat_minor": 2
}
