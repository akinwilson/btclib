{
 "cells": [
  {
   "cell_type": "markdown",
   "metadata": {},
   "source": [
    "## Transactions"
   ]
  },
  {
   "cell_type": "code",
   "execution_count": null,
   "metadata": {},
   "outputs": [],
   "source": [
    "%%capture\n",
    "!pip install selenium"
   ]
  },
  {
   "cell_type": "code",
   "execution_count": null,
   "metadata": {},
   "outputs": [],
   "source": [
    "from selenium import webdriver\n",
    "from selenium.webdriver.firefox.options import Options\n",
    "import time\n",
    "from selenium.webdriver.support.ui import WebDriverWait\n",
    "from selenium.webdriver.common.by import By\n",
    "from selenium.webdriver.support import expected_conditions as EC\n",
    "import json  \n",
    "\n",
    "class TxParseVerification:\n",
    "\n",
    "    # Locate the textarea input element and the button (using class names)\n",
    "    xpath_textarea = '/html/body/div/div[2]/div[2]/main/div/div/div[1]/div[1]/textarea'\n",
    "    xpath_decode = '/html/body/div/div[2]/div[2]/main/div/div/div[1]/div[1]/div/button[1]'\n",
    "    xpath_parsed_tx = '/html/body/div/div[2]/div[2]/main/div/div/div[1]/div[2]/div[2]/pre'\n",
    "  \n",
    "    def __init__(self,raw_tx, url=\"https://www.blockchain.com/explorer/assets/btc/decode-transaction\"):\n",
    "        self.raw_tx = raw_tx\n",
    "        self.url = url \n",
    "        options = Options()\n",
    "        options.add_argument(\"--headless\")  # Runs Chrome in headless mode\n",
    "        options.add_argument(\"--no-sandbox\")  # For environments like Docker\n",
    "        options.add_argument(\"--disable-dev-shm-usage\")  # To avoid certain ChromeDriver issues\n",
    "        self.driver = webdriver.Firefox(options=options)\n",
    "\n",
    "    def __call__(self,) -> dict: \n",
    "        self.driver.get(self.url)\n",
    "        time.sleep(3)\n",
    "        WebDriverWait(self.driver, 3).until(EC.element_to_be_clickable((By.XPATH, TxParseVerification.xpath_textarea))).send_keys(self.raw_tx)\n",
    "        self.driver.find_element(By.XPATH, TxParseVerification.xpath_decode).click()\n",
    "        result = json.loads(self.driver.find_element(By.XPATH, TxParseVerification.xpath_parsed_tx).text)\n",
    "        self.driver.quit()\n",
    "        return result \n",
    "\n",
    "\n",
    "\n",
    "raw_tx  = (\n",
    " '0100000001813f79011acb80925dfe69b3def355fe914bd1d9'\n",
    " '6a3f5f71bf8303c6a989c7d1000000006b483045022100ed'\n",
    " '81ff192e75a3fd2304004dcadb746fa5e24c5031ccfcf213'\n",
    " '20b0277457c98f02207a986d955c6e0cb35d446a89d3f5610'\n",
    " '0f4d7f67801c31967743a9c8e10615bed01210349fc4e631e3'\n",
    " '624a545de3f89f5d8684c7b8138bd94bdd531d2e213bf016b27'\n",
    " '8afeffffff02a135ef01000000001976a914bc3b654dca7e56b'\n",
    " '04dca18f2566cdaf02e8d9ada88ac99c39800000000001976a9141'\n",
    " 'c4bc762dd5423e332166702cb75f40df79fea1288ac19430600')  # Replace with your actual raw transaction\n",
    "\n",
    "\n",
    "NETWORK_CONNECTED = False \n",
    "try: \n",
    "    result = TxParseVerification(raw_tx)()\n",
    "    NETWORK_CONNECTED =True \n",
    "except: \n",
    "    pass  \n",
    "\n",
    "print(NETWORK_CONNECTED)"
   ]
  },
  {
   "cell_type": "code",
   "execution_count": null,
   "metadata": {},
   "outputs": [],
   "source": [
    "result"
   ]
  },
  {
   "cell_type": "code",
   "execution_count": null,
   "metadata": {},
   "outputs": [],
   "source": [
    "result['version']\n",
    "result['ins'][0]['txid']\n",
    "result['ins'].__len__()\n",
    "result['ins'][0]['sequence']\n",
    "result['outs'].__len__()\n",
    "result['outs'][0]['script']['hex']\n",
    "result['outs'][0]['value']\n",
    "# result['outs'][0]['hex']"
   ]
  },
  {
   "cell_type": "code",
   "execution_count": null,
   "metadata": {},
   "outputs": [],
   "source": [
    "tx_serialized = (\n",
    " '0100000001813f79011acb80925dfe69b3def355fe914bd1d9'\n",
    " '6a3f5f71bf8303c6a989c7d1000000006b483045022100ed'\n",
    " '81ff192e75a3fd2304004dcadb746fa5e24c5031ccfcf213'\n",
    " '20b0277457c98f02207a986d955c6e0cb35d446a89d3f5610'\n",
    " '0f4d7f67801c31967743a9c8e10615bed01210349fc4e631e3'\n",
    " '624a545de3f89f5d8684c7b8138bd94bdd531d2e213bf016b27'\n",
    " '8afeffffff02a135ef01000000001976a914bc3b654dca7e56b'\n",
    " '04dca18f2566cdaf02e8d9ada88ac99c39800000000001976a9141'\n",
    " 'c4bc762dd5423e332166702cb75f40df79fea1288ac19430600')\n",
    "\n",
    "\n",
    "from io import BytesIO\n",
    "from btclib.transaction import Tx \n",
    "\n",
    "\n",
    "\n",
    "# script_hex = ('6b483045022100ed81ff192e75a3fd2304004dcadb746fa5e24c50'\n",
    "#               '31ccfcf21320b0277457c98f02207a986d955c6e0cb35d446a89d3'\n",
    "#               'f56100f4d7f67801c31967743a9c8e10615bed01210349fc4e631e'\n",
    "#               '3624a545de3f89f5d8684c7b8138bd94bdd531d2e213bf016b278a')\n",
    "\n",
    "# bs1 = BytesIO(bytes.fromhex(script_hex))\n",
    "s = BytesIO(bytes.fromhex(tx_serialized))\n",
    "tx =  Tx.parse(s)\n",
    "\n",
    "# tx.__dict__\n",
    "\n",
    "tx.version == result['version']\n",
    "tx.tx_ins[0].prev_tx.hex() == result['ins'][0]['txid'] # d1c789a9c60383bf715f3f6ad9d14b91fe55f3deb369fe5d9280cb1a01793f81\n",
    "tx.tx_ins[0].sequence == result['ins'][0]['sequence'] # 4294967294\n",
    "tx.tx_outs[0].amount == result['outs'][0]['value'] #  32454049\n",
    "tx.tx_outs[1].amount == result['outs'][1]['value'] #  32454049\n",
    "tx.tx_outs[0].script_pubkey ==  result['outs'][0]['script']['hex'] # '76a914bc3b654dca7e56b04dca18f2566cdaf02e8d9ada88ac'\n",
    "tx.tx_outs[1].script_pubkey ==  result['outs'][1]['script']['hex'] # '76a9141c4bc762dd5423e332166702cb75f40df79fea1288ac'"
   ]
  },
  {
   "cell_type": "code",
   "execution_count": 3,
   "metadata": {},
   "outputs": [
    {
     "name": "stdout",
     "output_type": "stream",
     "text": [
      "<btclib.script.Script object at 0x7aa3a44d9c90>\n",
      " of type <class 'btclib.script.Script'>\n"
     ]
    },
    {
     "data": {
      "text/plain": [
       "True"
      ]
     },
     "execution_count": 3,
     "metadata": {},
     "output_type": "execute_result"
    }
   ],
   "source": [
    "\n",
    "\n",
    "tx_hex = (\n",
    " '0100000001813f79011acb80925dfe69b3def355fe914bd1d9'\n",
    " '6a3f5f71bf8303c6a989c7d1000000006b483045022100ed'\n",
    " '81ff192e75a3fd2304004dcadb746fa5e24c5031ccfcf213'\n",
    " '20b0277457c98f02207a986d955c6e0cb35d446a89d3f5610'\n",
    " '0f4d7f67801c31967743a9c8e10615bed01210349fc4e631e3'\n",
    " '624a545de3f89f5d8684c7b8138bd94bdd531d2e213bf016b27'\n",
    " '8afeffffff02a135ef01000000001976a914bc3b654dca7e56b'\n",
    " '04dca18f2566cdaf02e8d9ada88ac99c39800000000001976a9141'\n",
    " 'c4bc762dd5423e332166702cb75f40df79fea1288ac19430600')\n",
    "\n",
    "\n",
    "from btclib.transaction import Tx\n",
    "from io import  BytesIO\n",
    "tx = Tx.parse(BytesIO(bytes.fromhex(tx_hex)))\n",
    "\n",
    "tx.serialize().hex() == tx_hex\n"
   ]
  },
  {
   "cell_type": "code",
   "execution_count": null,
   "metadata": {},
   "outputs": [],
   "source": [
    "expect = 'd1c789a9c60383bf715f3f6ad9d14b91fe55f3deb369fe5d9280cb1a01793f81'\n",
    "tx.tx_ins[0].prev_index == 0 \n",
    "tx.tx_ins[0].prev_tx.hex() == expect \n",
    "tx.tx_ins.__len__() == 1 \n",
    "\n",
    "# want = bytes.fromhex()\n",
    "\n",
    "# want.hex()"
   ]
  },
  {
   "cell_type": "code",
   "execution_count": null,
   "metadata": {},
   "outputs": [],
   "source": [
    "\n",
    "from io import BytesIO\n",
    "\n",
    "\n",
    "s = BytesIO(bytes.fromhex(('a135ef01000000001976a914bc3b654dca7e56b'\n",
    " '04dca18f2566cdaf02e8d9ada88ac99c39800000000001976a9141'\n",
    " 'c4bc762dd5423e332166702cb75f40df79fea1288ac19430600')))\n",
    "\n",
    "from btclib.transaction import TxOut\n",
    "\n",
    "\n",
    "TxOut.parse(s)\n"
   ]
  },
  {
   "cell_type": "code",
   "execution_count": null,
   "metadata": {},
   "outputs": [],
   "source": [
    "tx.version\n",
    "\n",
    "'d1c789a9c60383bf715f3f6ad9d14b91fe55f3deb369fe5d9280cb1a01793f81'.__len__()"
   ]
  },
  {
   "cell_type": "code",
   "execution_count": null,
   "metadata": {},
   "outputs": [],
   "source": [
    "t# from btclib.transactions import TxFetcher, Tx,TxIn,TxOut\n",
    "2**64-1"
   ]
  },
  {
   "cell_type": "code",
   "execution_count": null,
   "metadata": {},
   "outputs": [],
   "source": [
    "import IPython\n",
    "IPython.paths.get_ipython_dir()\n",
    "print(\"Hello\")"
   ]
  },
  {
   "cell_type": "code",
   "execution_count": null,
   "metadata": {},
   "outputs": [],
   "source": [
    "int(1844674407370955000).to_bytes(8, 'little').hex()"
   ]
  },
  {
   "cell_type": "code",
   "execution_count": null,
   "metadata": {},
   "outputs": [],
   "source": [
    "\n",
    "\n",
    "from io import BytesIO\n",
    "stream_str = BytesIO\n",
    "t = bytes.fromhex( 'FD10')  # 16\n",
    "t = bytes.fromhex('FE2b020000') # 555\n",
    "t = bytes.fromhex('FFcb10c7bab88d0600') #  1844674407370955\n",
    "\n",
    "s = BytesIO(t) # .read(1)[0]\n",
    "\n",
    "from btclib.transaction import Varint\n",
    "\n",
    "\n",
    "Varint.decode(BytesIO(bytes.fromhex(Varint.encode(555).hex())))\n",
    "\n"
   ]
  },
  {
   "cell_type": "code",
   "execution_count": null,
   "metadata": {},
   "outputs": [],
   "source": [
    "\n",
    "from io import BytesIO\n",
    "stream_str = BytesIO\n",
    "t = bytes.fromhex('FFcb10c7bab88d0600') #  1844674407370955\n",
    "\n",
    "s= BytesIO(t).read(1) # .read(1)[0]\n",
    "print(s)\n",
    "s= BytesIO(t).read(3)\n",
    "print(s)\n"
   ]
  },
  {
   "cell_type": "code",
   "execution_count": null,
   "metadata": {},
   "outputs": [],
   "source": [
    "from io import BytesIO\n",
    "from btclib.script import Script  # <1>\n",
    "\n",
    "# stream = BytesIO(bytes.fromhex(script_hex))\n",
    "# script_sig = Script.parse(stream)\n",
    "# print(script_sig)\n",
    "script_hex\n",
    "#3045022100ed81ff192e75a3fd2304004dcadb746fa5e24c5031ccfcf21320b0277457c98f02207a986d955c6e0cb35d446a89d3f56100f4d7f67801c31967743a9c8e10615bed010349fc4e631e3624a545de3f89f5d8684c7b8138bd94bdd531d2e213bf016b278a"
   ]
  }
 ],
 "metadata": {
  "kernelspec": {
   "display_name": "btclib-36eTZU9P",
   "language": "python",
   "name": "python3"
  },
  "language_info": {
   "codemirror_mode": {
    "name": "ipython",
    "version": 3
   },
   "file_extension": ".py",
   "mimetype": "text/x-python",
   "name": "python",
   "nbconvert_exporter": "python",
   "pygments_lexer": "ipython3",
   "version": "3.10.12"
  }
 },
 "nbformat": 4,
 "nbformat_minor": 2
}
