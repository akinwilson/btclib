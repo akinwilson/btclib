{
 "cells": [
  {
   "cell_type": "markdown",
   "metadata": {},
   "source": [
    "## Transactions"
   ]
  },
  {
   "cell_type": "code",
   "execution_count": null,
   "metadata": {},
   "outputs": [],
   "source": [
    "%%capture\n",
    "!pip install selenium"
   ]
  },
  {
   "cell_type": "code",
   "execution_count": null,
   "metadata": {},
   "outputs": [],
   "source": [
    "from selenium import webdriver\n",
    "from selenium.webdriver.firefox.options import Options\n",
    "import time\n",
    "from selenium.webdriver.support.ui import WebDriverWait\n",
    "from selenium.webdriver.common.by import By\n",
    "from selenium.webdriver.support import expected_conditions as EC\n",
    "import json  \n",
    "\n",
    "class TxParseVerification:\n",
    "\n",
    "    # Locate the textarea input element and the button (using class names)\n",
    "    xpath_textarea = '/html/body/div/div[2]/div[2]/main/div/div/div[1]/div[1]/textarea'\n",
    "    xpath_decode = '/html/body/div/div[2]/div[2]/main/div/div/div[1]/div[1]/div/button[1]'\n",
    "    xpath_parsed_tx = '/html/body/div/div[2]/div[2]/main/div/div/div[1]/div[2]/div[2]/pre'\n",
    "  \n",
    "    def __init__(self,raw_tx, url=\"https://www.blockchain.com/explorer/assets/btc/decode-transaction\"):\n",
    "        self.raw_tx = raw_tx\n",
    "        self.url = url \n",
    "        options = Options()\n",
    "        options.add_argument(\"--headless\")  # Runs Chrome in headless mode\n",
    "        options.add_argument(\"--no-sandbox\")  # For environments like Docker\n",
    "        options.add_argument(\"--disable-dev-shm-usage\")  # To avoid certain ChromeDriver issues\n",
    "        self.driver = webdriver.Firefox(options=options)\n",
    "\n",
    "    def __call__(self,) -> dict: \n",
    "        self.driver.get(self.url)\n",
    "        time.sleep(3)\n",
    "        WebDriverWait(self.driver, 3).until(EC.element_to_be_clickable((By.XPATH, TxParseVerification.xpath_textarea))).send_keys(self.raw_tx)\n",
    "        self.driver.find_element(By.XPATH, TxParseVerification.xpath_decode).click()\n",
    "        result = json.loads(self.driver.find_element(By.XPATH, TxParseVerification.xpath_parsed_tx).text)\n",
    "        self.driver.quit()\n",
    "        return result \n",
    "\n",
    "\n",
    "\n",
    "raw_tx  = (\n",
    " '0100000001813f79011acb80925dfe69b3def355fe914bd1d9'\n",
    " '6a3f5f71bf8303c6a989c7d1000000006b483045022100ed'\n",
    " '81ff192e75a3fd2304004dcadb746fa5e24c5031ccfcf213'\n",
    " '20b0277457c98f02207a986d955c6e0cb35d446a89d3f5610'\n",
    " '0f4d7f67801c31967743a9c8e10615bed01210349fc4e631e3'\n",
    " '624a545de3f89f5d8684c7b8138bd94bdd531d2e213bf016b27'\n",
    " '8afeffffff02a135ef01000000001976a914bc3b654dca7e56b'\n",
    " '04dca18f2566cdaf02e8d9ada88ac99c39800000000001976a9141'\n",
    " 'c4bc762dd5423e332166702cb75f40df79fea1288ac19430600')  # Replace with your actual raw transaction\n",
    "\n",
    "\n",
    "NETWORK_CONNECTED = False \n",
    "try: \n",
    "    result = TxParseVerification(raw_tx)()\n",
    "    NETWORK_CONNECTED =True \n",
    "except: \n",
    "    pass  \n",
    "\n",
    "print(NETWORK_CONNECTED)"
   ]
  },
  {
   "cell_type": "code",
   "execution_count": null,
   "metadata": {},
   "outputs": [],
   "source": [
    "result"
   ]
  },
  {
   "cell_type": "code",
   "execution_count": null,
   "metadata": {},
   "outputs": [],
   "source": [
    "result['version']\n",
    "result['ins'][0]['txid']\n",
    "result['ins'].__len__()\n",
    "result['ins'][0]['sequence']\n",
    "result['outs'].__len__()\n",
    "result['outs'][0]['script']['hex']\n",
    "result['outs'][0]['value']\n",
    "# result['outs'][0]['hex']"
   ]
  },
  {
   "cell_type": "code",
   "execution_count": null,
   "metadata": {},
   "outputs": [],
   "source": [
    "tx_serialized = (\n",
    " '0100000001813f79011acb80925dfe69b3def355fe914bd1d9'\n",
    " '6a3f5f71bf8303c6a989c7d1000000006b483045022100ed'\n",
    " '81ff192e75a3fd2304004dcadb746fa5e24c5031ccfcf213'\n",
    " '20b0277457c98f02207a986d955c6e0cb35d446a89d3f5610'\n",
    " '0f4d7f67801c31967743a9c8e10615bed01210349fc4e631e3'\n",
    " '624a545de3f89f5d8684c7b8138bd94bdd531d2e213bf016b27'\n",
    " '8afeffffff02a135ef01000000001976a914bc3b654dca7e56b'\n",
    " '04dca18f2566cdaf02e8d9ada88ac99c39800000000001976a9141'\n",
    " 'c4bc762dd5423e332166702cb75f40df79fea1288ac19430600')\n",
    "\n",
    "\n",
    "from io import BytesIO\n",
    "from btclib.transaction import Tx \n",
    "\n",
    "\n",
    "\n",
    "# script_hex = ('6b483045022100ed81ff192e75a3fd2304004dcadb746fa5e24c50'\n",
    "#               '31ccfcf21320b0277457c98f02207a986d955c6e0cb35d446a89d3'\n",
    "#               'f56100f4d7f67801c31967743a9c8e10615bed01210349fc4e631e'\n",
    "#               '3624a545de3f89f5d8684c7b8138bd94bdd531d2e213bf016b278a')\n",
    "\n",
    "# bs1 = BytesIO(bytes.fromhex(script_hex))\n",
    "s = BytesIO(bytes.fromhex(tx_serialized))\n",
    "tx =  Tx.parse(s)\n",
    "\n",
    "# tx.__dict__\n",
    "\n",
    "tx.version == result['version']\n",
    "tx.tx_ins[0].prev_tx.hex() == result['ins'][0]['txid'] # d1c789a9c60383bf715f3f6ad9d14b91fe55f3deb369fe5d9280cb1a01793f81\n",
    "tx.tx_ins[0].sequence == result['ins'][0]['sequence'] # 4294967294\n",
    "tx.tx_outs[0].amount == result['outs'][0]['value'] #  32454049\n",
    "tx.tx_outs[1].amount == result['outs'][1]['value'] #  32454049\n",
    "tx.tx_outs[0].script_pubkey ==  result['outs'][0]['script']['hex'] # '76a914bc3b654dca7e56b04dca18f2566cdaf02e8d9ada88ac'\n",
    "tx.tx_outs[1].script_pubkey ==  result['outs'][1]['script']['hex'] # '76a9141c4bc762dd5423e332166702cb75f40df79fea1288ac'"
   ]
  },
  {
   "cell_type": "code",
   "execution_count": 1,
   "metadata": {},
   "outputs": [
    {
     "name": "stdout",
     "output_type": "stream",
     "text": [
      "version=1\n",
      "num inputs 2\n",
      "prev_tx_hash cbf43825e0b92ba3bfabaec509e14ee9132df1e92ffdfc6636f848fbf0537c13\n",
      "previous tx id : 0\n",
      "prev_tx_hash ac653229dfd8d72d2a81564502051f21554f919ae59ac27be7727451ffffffff\n",
      "previous tx id : 1493251032\n",
      "sequence=1214971904\n",
      "supposed to be:  4294967295\n",
      "amount=854487609011929669\n"
     ]
    },
    {
     "ename": "SyntaxError",
     "evalue": "parsing script failed (<string>)",
     "output_type": "error",
     "traceback": [
      "Traceback \u001b[0;36m(most recent call last)\u001b[0m:\n",
      "\u001b[0m  File \u001b[1;32m~/.local/share/virtualenvs/btclib-36eTZU9P/lib/python3.10/site-packages/IPython/core/interactiveshell.py:3577\u001b[0m in \u001b[1;35mrun_code\u001b[0m\n    exec(code_obj, self.user_global_ns, self.user_ns)\u001b[0m\n",
      "\u001b[0m  Cell \u001b[1;32mIn[1], line 17\u001b[0m\n    tx = Tx.parse(BytesIO(bytes.fromhex(tx_hex)))\u001b[0m\n",
      "\u001b[0m  File \u001b[1;32m~/Code/btclib/src/btclib/transaction.py:242\u001b[0m in \u001b[1;35mparse\u001b[0m\n    outputs.append(TxOut.parse(s)) #   for _ in range(num_outputs)]\u001b[0m\n",
      "\u001b[0m  File \u001b[1;32m~/Code/btclib/src/btclib/transaction.py:171\u001b[0m in \u001b[1;35mparse\u001b[0m\n    script_pubkey = Script.parse(s)\u001b[0m\n",
      "\u001b[0;36m  File \u001b[0;32m~/Code/btclib/src/btclib/script.py:105\u001b[0;36m in \u001b[0;35mparse\u001b[0;36m\n\u001b[0;31m    raise SyntaxError('parsing script failed')\u001b[0;36m\n",
      "\u001b[0;36m  File \u001b[0;32m<string>\u001b[0;36m\u001b[0m\n\u001b[0;31mSyntaxError\u001b[0m\u001b[0;31m:\u001b[0m parsing script failed\n"
     ]
    }
   ],
   "source": [
    "\n",
    "\n",
    "tx_hex1 = (\n",
    " '0100000001813f79011acb80925dfe69b3def355fe914bd1d9'\n",
    " '6a3f5f71bf8303c6a989c7d1000000006b483045022100ed'\n",
    " '81ff192e75a3fd2304004dcadb746fa5e24c5031ccfcf213'\n",
    " '20b0277457c98f02207a986d955c6e0cb35d446a89d3f5610'\n",
    " '0f4d7f67801c31967743a9c8e10615bed01210349fc4e631e3'\n",
    " '624a545de3f89f5d8684c7b8138bd94bdd531d2e213bf016b27'\n",
    " '8afeffffff02a135ef01000000001976a914bc3b654dca7e56b'\n",
    " '04dca18f2566cdaf02e8d9ada88ac99c39800000000001976a9141'\n",
    " 'c4bc762dd5423e332166702cb75f40df79fea1288ac19430600')\n",
    "\n",
    "tx_hex = '0100000002137c53f0fb48f83666fcfd2fe9f12d13e94ee109c5aeabbfa32bb9e02538f4cb000000006a47304402207e6009ad86367fc4b166bc80bf10cf1e78832a01e9bb491c6d126ee8aa436cb502200e29e6dd7708ed419cd5ba798981c960f0cc811b24e894bff072fea8074a7c4c012103bc9e7397f739c70f424aa7dcce9d2e521eb228b0ccba619cd6a0b9691da796a1ffffffff517472e77bc29ae59a914f55211f05024556812a2dd7d8df293265acd8330159010000006b483045022100f4bfdb0b3185c778cf28acbaf115376352f091ad9e27225e6f3f350b847579c702200d69177773cd2bb993a816a5ae08e77a6270cf46b33f8f79d45b0cd1244d9c4c0121031c0b0b95b522805ea9d0225b1946ecaeb1727c0b36c7e34165769fd8ed860bf5ffffffff027a958802000000001976a914a802fc56c704ce87c42d7c92eb75e7896bdc41ae88aca5515e00000000001976a914e82bd75c9c662c3f5700b33fec8a676b6e9391d588ac00000000'\n",
    "\n",
    "from btclib.transaction import Tx\n",
    "from io import  BytesIO\n",
    "# tx = Tx.parse(BytesIO(bytes.fromhex(tx_hex1)))\n",
    "tx = Tx.parse(BytesIO(bytes.fromhex(tx_hex)))\n",
    "\n",
    "\n",
    "# tx.tx_outs[1].script_pubkey.serialize().hex()\n",
    "# tx.fee()"
   ]
  },
  {
   "cell_type": "code",
   "execution_count": null,
   "metadata": {},
   "outputs": [],
   "source": [
    "expect = 'd1c789a9c60383bf715f3f6ad9d14b91fe55f3deb369fe5d9280cb1a01793f81'\n",
    "tx.tx_ins[0].prev_index == 0 \n",
    "tx.tx_ins[0].prev_tx.hex() == expect \n",
    "tx.tx_ins.__len__() == 1 \n",
    "\n",
    "# want = bytes.fromhex()\n",
    "\n",
    "# want.hex()"
   ]
  },
  {
   "cell_type": "code",
   "execution_count": null,
   "metadata": {},
   "outputs": [],
   "source": [
    "\n",
    "from io import BytesIO\n",
    "\n",
    "\n",
    "s = BytesIO(bytes.fromhex(('a135ef01000000001976a914bc3b654dca7e56b'\n",
    " '04dca18f2566cdaf02e8d9ada88ac99c39800000000001976a9141'\n",
    " 'c4bc762dd5423e332166702cb75f40df79fea1288ac19430600')))\n",
    "\n",
    "from btclib.transaction import TxOut\n",
    "\n",
    "\n",
    "TxOut.parse(s)\n"
   ]
  },
  {
   "cell_type": "code",
   "execution_count": null,
   "metadata": {},
   "outputs": [],
   "source": [
    "tx.version\n",
    "\n",
    "'d1c789a9c60383bf715f3f6ad9d14b91fe55f3deb369fe5d9280cb1a01793f81'.__len__()"
   ]
  },
  {
   "cell_type": "code",
   "execution_count": null,
   "metadata": {},
   "outputs": [],
   "source": [
    "t# from btclib.transactions import TxFetcher, Tx,TxIn,TxOut\n",
    "2**64-1"
   ]
  },
  {
   "cell_type": "code",
   "execution_count": null,
   "metadata": {},
   "outputs": [],
   "source": [
    "import IPython\n",
    "IPython.paths.get_ipython_dir()\n",
    "print(\"Hello\")"
   ]
  },
  {
   "cell_type": "code",
   "execution_count": null,
   "metadata": {},
   "outputs": [],
   "source": [
    "int(1844674407370955000).to_bytes(8, 'little').hex()"
   ]
  },
  {
   "cell_type": "code",
   "execution_count": null,
   "metadata": {},
   "outputs": [],
   "source": [
    "\n",
    "\n",
    "from io import BytesIO\n",
    "stream_str = BytesIO\n",
    "t = bytes.fromhex( 'FD10')  # 16\n",
    "t = bytes.fromhex('FE2b020000') # 555\n",
    "t = bytes.fromhex('FFcb10c7bab88d0600') #  1844674407370955\n",
    "\n",
    "s = BytesIO(t) # .read(1)[0]\n",
    "\n",
    "from btclib.transaction import Varint\n",
    "\n",
    "\n",
    "Varint.decode(BytesIO(bytes.fromhex(Varint.encode(555).hex())))\n",
    "\n"
   ]
  },
  {
   "cell_type": "code",
   "execution_count": null,
   "metadata": {},
   "outputs": [],
   "source": [
    "\n",
    "from io import BytesIO\n",
    "stream_str = BytesIO\n",
    "t = bytes.fromhex('FFcb10c7bab88d0600') #  1844674407370955\n",
    "\n",
    "s= BytesIO(t).read(1) # .read(1)[0]\n",
    "print(s)\n",
    "s= BytesIO(t).read(3)\n",
    "print(s)\n"
   ]
  },
  {
   "cell_type": "code",
   "execution_count": null,
   "metadata": {},
   "outputs": [],
   "source": [
    "from io import BytesIO\n",
    "from btclib.script import Script  # <1>\n",
    "\n",
    "# stream = BytesIO(bytes.fromhex(script_hex))\n",
    "# script_sig = Script.parse(stream)\n",
    "# print(script_sig)\n",
    "script_hex\n",
    "#3045022100ed81ff192e75a3fd2304004dcadb746fa5e24c5031ccfcf21320b0277457c98f02207a986d955c6e0cb35d446a89d3f56100f4d7f67801c31967743a9c8e10615bed010349fc4e631e3624a545de3f89f5d8684c7b8138bd94bdd531d2e213bf016b278a"
   ]
  }
 ],
 "metadata": {
  "kernelspec": {
   "display_name": "btclib-36eTZU9P",
   "language": "python",
   "name": "python3"
  },
  "language_info": {
   "codemirror_mode": {
    "name": "ipython",
    "version": 3
   },
   "file_extension": ".py",
   "mimetype": "text/x-python",
   "name": "python",
   "nbconvert_exporter": "python",
   "pygments_lexer": "ipython3",
   "version": "3.10.12"
  }
 },
 "nbformat": 4,
 "nbformat_minor": 2
}
