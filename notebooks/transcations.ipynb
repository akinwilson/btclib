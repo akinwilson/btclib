{
 "cells": [
  {
   "cell_type": "markdown",
   "metadata": {},
   "source": [
    "## Transactions"
   ]
  },
  {
   "cell_type": "code",
   "execution_count": null,
   "metadata": {},
   "outputs": [],
   "source": []
  },
  {
   "cell_type": "code",
   "execution_count": 14,
   "metadata": {},
   "outputs": [],
   "source": []
  },
  {
   "cell_type": "code",
   "execution_count": 1,
   "metadata": {},
   "outputs": [
    {
     "name": "stdout",
     "output_type": "stream",
     "text": [
      "version=1\n",
      "num_inputs=1\n"
     ]
    }
   ],
   "source": [
    "tx_serialized = (\n",
    " '0100000001813f79011acb80925dfe69b3def355fe914bd1d9'\n",
    " '6a3f5f71bf8303c6a989c7d1000000006b483045022100ed'\n",
    " '81ff192e75a3fd2304004dcadb746fa5e24c5031ccfcf213'\n",
    " '20b0277457c98f02207a986d955c6e0cb35d446a89d3f5610'\n",
    " '0f4d7f67801c31967743a9c8e10615bed01210349fc4e631e3'\n",
    " '624a545de3f89f5d8684c7b8138bd94bdd531d2e213bf016b27'\n",
    " '8afeffffff02a135ef01000000001976a914bc3b654dca7e56b'\n",
    " '04dca18f2566cdaf02e8d9ada88ac99c39800000000001976a9141'\n",
    " 'c4bc762dd5423e332166702cb75f40df79fea1288ac19430600')\n",
    "\n",
    "# x == tx_serialized\n",
    "\n",
    "from io import BytesIO\n",
    "from btclib.transaction import Tx \n",
    "\n",
    "s = BytesIO(bytes.fromhex(tx_serialized))\n",
    "tx =  Tx.parse(s)\n"
   ]
  },
  {
   "cell_type": "code",
   "execution_count": 4,
   "metadata": {},
   "outputs": [
    {
     "data": {
      "text/plain": [
       "True"
      ]
     },
     "execution_count": 4,
     "metadata": {},
     "output_type": "execute_result"
    },
    {
     "data": {
      "text/plain": [
       "True"
      ]
     },
     "execution_count": 4,
     "metadata": {},
     "output_type": "execute_result"
    },
    {
     "data": {
      "text/plain": [
       "True"
      ]
     },
     "execution_count": 4,
     "metadata": {},
     "output_type": "execute_result"
    }
   ],
   "source": [
    "expect = 'd1c789a9c60383bf715f3f6ad9d14b91fe55f3deb369fe5d9280cb1a01793f81'\n",
    "tx.tx_ins[0].prev_index == 0 \n",
    "tx.tx_ins[0].prev_tx.hex() == expect \n",
    "tx.tx_ins.__len__() == 1 \n",
    "\n",
    "# want = bytes.fromhex()\n",
    "\n",
    "# want.hex()"
   ]
  },
  {
   "cell_type": "code",
   "execution_count": null,
   "metadata": {},
   "outputs": [],
   "source": [
    "tx"
   ]
  },
  {
   "cell_type": "code",
   "execution_count": null,
   "metadata": {},
   "outputs": [],
   "source": [
    "tx.version\n",
    "\n",
    "'d1c789a9c60383bf715f3f6ad9d14b91fe55f3deb369fe5d9280cb1a01793f81'.__len__()"
   ]
  },
  {
   "cell_type": "code",
   "execution_count": null,
   "metadata": {},
   "outputs": [],
   "source": [
    "t# from btclib.transactions import TxFetcher, Tx,TxIn,TxOut\n",
    "2**64-1"
   ]
  },
  {
   "cell_type": "code",
   "execution_count": null,
   "metadata": {},
   "outputs": [],
   "source": [
    "import IPython\n",
    "IPython.paths.get_ipython_dir()\n",
    "print(\"Hello\")"
   ]
  },
  {
   "cell_type": "code",
   "execution_count": null,
   "metadata": {},
   "outputs": [],
   "source": [
    "int(1844674407370955000).to_bytes(8, 'little').hex()"
   ]
  },
  {
   "cell_type": "code",
   "execution_count": null,
   "metadata": {},
   "outputs": [],
   "source": [
    "\n",
    "\n",
    "from io import BytesIO\n",
    "stream_str = BytesIO\n",
    "t = bytes.fromhex( 'FD10')  # 16\n",
    "t = bytes.fromhex('FE2b020000') # 555\n",
    "t = bytes.fromhex('FFcb10c7bab88d0600') #  1844674407370955\n",
    "\n",
    "s = BytesIO(t) # .read(1)[0]\n",
    "\n",
    "from btclib.transaction import Varint\n",
    "\n",
    "\n",
    "Varint.decode(BytesIO(bytes.fromhex(Varint.encode(555).hex())))\n",
    "\n"
   ]
  },
  {
   "cell_type": "code",
   "execution_count": null,
   "metadata": {},
   "outputs": [],
   "source": [
    "\n",
    "from io import BytesIO\n",
    "stream_str = BytesIO\n",
    "t = bytes.fromhex('FFcb10c7bab88d0600') #  1844674407370955\n",
    "\n",
    "s= BytesIO(t).read(1) # .read(1)[0]\n",
    "print(s)\n",
    "s= BytesIO(t).read(3)\n",
    "print(s)\n"
   ]
  },
  {
   "cell_type": "code",
   "execution_count": null,
   "metadata": {},
   "outputs": [],
   "source": [
    "from io import BytesIO\n",
    "from btclib.script import Script  # <1>\n",
    "script_hex = ('6b483045022100ed81ff192e75a3fd2304004dcadb746fa5e24c5031ccf\\\n",
    "cf21320b0277457c98f02207a986d955c6e0cb35d446a89d3f56100f4d7f67801c31967743a9c8\\\n",
    "e10615bed01210349fc4e631e3624a545de3f89f5d8684c7b8138bd94bdd531d2e213bf016b278\\\n",
    "a')\n",
    "stream = BytesIO(bytes.fromhex(script_hex))\n",
    "script_sig = Script.parse(stream)\n",
    "print(script_sig)\n",
    "\n",
    "#3045022100ed81ff192e75a3fd2304004dcadb746fa5e24c5031ccfcf21320b0277457c98f02207a986d955c6e0cb35d446a89d3f56100f4d7f67801c31967743a9c8e10615bed010349fc4e631e3624a545de3f89f5d8684c7b8138bd94bdd531d2e213bf016b278a"
   ]
  }
 ],
 "metadata": {
  "kernelspec": {
   "display_name": "btclib-36eTZU9P",
   "language": "python",
   "name": "python3"
  },
  "language_info": {
   "codemirror_mode": {
    "name": "ipython",
    "version": 3
   },
   "file_extension": ".py",
   "mimetype": "text/x-python",
   "name": "python",
   "nbconvert_exporter": "python",
   "pygments_lexer": "ipython3",
   "version": "3.10.12"
  }
 },
 "nbformat": 4,
 "nbformat_minor": 2
}
